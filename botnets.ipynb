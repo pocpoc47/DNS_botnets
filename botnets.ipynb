{
 "cells": [
  {
   "cell_type": "code",
   "execution_count": 1,
   "metadata": {},
   "outputs": [
    {
     "name": "stderr",
     "output_type": "stream",
     "text": [
      "UserWarning: The Dask Engine for Modin is experimental.\n"
     ]
    },
    {
     "name": "stdout",
     "output_type": "stream",
     "text": [
      "Wall time: 42 s\n"
     ]
    }
   ],
   "source": [
    "%%time\n",
    "import modin.pandas as pd\n",
    "import pandas as pdnm\n",
    "import matplotlib.pyplot as plt\n",
    "import time\n",
    "from sklearn.manifold import TSNE as sTSNE\n",
    "import numpy as np\n",
    "from sklearn.cluster import KMeans\n",
    "from sklearn.preprocessing import StandardScaler\n",
    "from sklearn.preprocessing import MinMaxScaler\n",
    "from sklearn.preprocessing import RobustScaler"
   ]
  },
  {
   "cell_type": "code",
   "execution_count": 7,
   "metadata": {},
   "outputs": [
    {
     "name": "stdout",
     "output_type": "stream",
     "text": [
      "Wall time: 0 ns\n"
     ]
    }
   ],
   "source": [
    "%time\n",
    "df = pd.read_csv('../2017_a3.csv')"
   ]
  },
  {
   "cell_type": "code",
   "execution_count": 8,
   "metadata": {},
   "outputs": [],
   "source": [
    "df['rdata']=df['rdata'].str.split('/')"
   ]
  },
  {
   "cell_type": "code",
   "execution_count": 9,
   "metadata": {},
   "outputs": [],
   "source": [
    "dtest = df[['q_name','rdata']]"
   ]
  },
  {
   "cell_type": "code",
   "execution_count": 10,
   "metadata": {},
   "outputs": [],
   "source": [
    "def tbyt(lis):\n",
    "    for i in range(0,len(lis)):\n",
    "        lis[i]=lis[i].split('.')[0]\n",
    "    return lis"
   ]
  },
  {
   "cell_type": "code",
   "execution_count": 11,
   "metadata": {},
   "outputs": [
    {
     "data": {
      "text/html": [
       "<div>\n",
       "<style scoped>\n",
       "    .dataframe tbody tr th:only-of-type {\n",
       "        vertical-align: middle;\n",
       "    }\n",
       "\n",
       "    .dataframe tbody tr th {\n",
       "        vertical-align: top;\n",
       "    }\n",
       "\n",
       "    .dataframe thead th {\n",
       "        text-align: right;\n",
       "    }\n",
       "</style>\n",
       "<table border=\"1\" class=\"dataframe\">\n",
       "  <thead>\n",
       "    <tr style=\"text-align: right;\">\n",
       "      <th></th>\n",
       "      <th>q_name</th>\n",
       "      <th>rdata</th>\n",
       "    </tr>\n",
       "  </thead>\n",
       "  <tbody>\n",
       "    <tr>\n",
       "      <th>0</th>\n",
       "      <td>mailstore1.srv.fundp.ac.be</td>\n",
       "      <td>[138.48.4.212]</td>\n",
       "    </tr>\n",
       "    <tr>\n",
       "      <th>1</th>\n",
       "      <td>www.apple.com</td>\n",
       "      <td>[23.206.34.3]</td>\n",
       "    </tr>\n",
       "    <tr>\n",
       "      <th>2</th>\n",
       "      <td>www.google.com</td>\n",
       "      <td>[216.58.207.132]</td>\n",
       "    </tr>\n",
       "    <tr>\n",
       "      <th>3</th>\n",
       "      <td>eur.clientlogportal.office.akadns.net</td>\n",
       "      <td>[94.245.88.28]</td>\n",
       "    </tr>\n",
       "    <tr>\n",
       "      <th>4</th>\n",
       "      <td>eur.clientlogportal.office.akadns.net</td>\n",
       "      <td>[2a01.0111.f100.a000.0000.0000.5ef5.581c]</td>\n",
       "    </tr>\n",
       "    <tr>\n",
       "      <th>...</th>\n",
       "      <td>...</td>\n",
       "      <td>...</td>\n",
       "    </tr>\n",
       "    <tr>\n",
       "      <th>4971833</th>\n",
       "      <td>i.ytimg.com</td>\n",
       "      <td>[172.217.23.14, 216.58.204.46, 216.58.198.174,...</td>\n",
       "    </tr>\n",
       "    <tr>\n",
       "      <th>4971834</th>\n",
       "      <td>r6---sn-cxab5jvh-cg0r.googlevideo.com</td>\n",
       "      <td>[194.78.0.209]</td>\n",
       "    </tr>\n",
       "    <tr>\n",
       "      <th>4971835</th>\n",
       "      <td>yt3.ggpht.com</td>\n",
       "      <td>[216.58.201.33]</td>\n",
       "    </tr>\n",
       "    <tr>\n",
       "      <th>4971836</th>\n",
       "      <td>noe.fundp.ac.be</td>\n",
       "      <td>[138.48.4.185]</td>\n",
       "    </tr>\n",
       "    <tr>\n",
       "      <th>4971837</th>\n",
       "      <td>noe.fundp.ac.be</td>\n",
       "      <td>NaN</td>\n",
       "    </tr>\n",
       "  </tbody>\n",
       "</table>\n",
       "<p>4971838 rows x 2 columns</p>\n",
       "</div>"
      ],
      "text/plain": [
       "                                        q_name  \\\n",
       "0                   mailstore1.srv.fundp.ac.be   \n",
       "1                                www.apple.com   \n",
       "2                               www.google.com   \n",
       "3        eur.clientlogportal.office.akadns.net   \n",
       "4        eur.clientlogportal.office.akadns.net   \n",
       "...                                        ...   \n",
       "4971833                            i.ytimg.com   \n",
       "4971834  r6---sn-cxab5jvh-cg0r.googlevideo.com   \n",
       "4971835                          yt3.ggpht.com   \n",
       "4971836                        noe.fundp.ac.be   \n",
       "4971837                        noe.fundp.ac.be   \n",
       "\n",
       "                                                     rdata  \n",
       "0                                           [138.48.4.212]  \n",
       "1                                            [23.206.34.3]  \n",
       "2                                         [216.58.207.132]  \n",
       "3                                           [94.245.88.28]  \n",
       "4                [2a01.0111.f100.a000.0000.0000.5ef5.581c]  \n",
       "...                                                    ...  \n",
       "4971833  [172.217.23.14, 216.58.204.46, 216.58.198.174,...  \n",
       "4971834                                     [194.78.0.209]  \n",
       "4971835                                    [216.58.201.33]  \n",
       "4971836                                     [138.48.4.185]  \n",
       "4971837                                                NaN  \n",
       "\n",
       "[4971838 rows x 2 columns]"
      ]
     },
     "execution_count": 11,
     "metadata": {},
     "output_type": "execute_result"
    }
   ],
   "source": [
    "dtest"
   ]
  },
  {
   "cell_type": "code",
   "execution_count": 12,
   "metadata": {},
   "outputs": [
    {
     "name": "stdout",
     "output_type": "stream",
     "text": [
      "Wall time: 2min 19s\n"
     ]
    }
   ],
   "source": [
    "%%time\n",
    "\n",
    "#dtest = df[['q_name','rdata']]\n",
    "dtest['rdata'] = dtest['rdata'].dropna().apply(lambda x: tbyt(x))"
   ]
  },
  {
   "cell_type": "code",
   "execution_count": null,
   "metadata": {},
   "outputs": [],
   "source": []
  },
  {
   "cell_type": "code",
   "execution_count": 13,
   "metadata": {},
   "outputs": [
    {
     "name": "stdout",
     "output_type": "stream",
     "text": [
      "Wall time: 1h 17min 11s\n"
     ]
    }
   ],
   "source": [
    "%%time\n",
    "dtests = dtest.groupby('q_name').agg('sum')"
   ]
  },
  {
   "cell_type": "code",
   "execution_count": 14,
   "metadata": {},
   "outputs": [
    {
     "name": "stdout",
     "output_type": "stream",
     "text": [
      "Wall time: 64.8 ms\n"
     ]
    }
   ],
   "source": [
    "%%time\n",
    "dtestc = dtests['rdata'].apply(lambda x: len(set(x)))\n",
    "#dtestcdic = dtestc.to_dict()\n",
    "#df['rdatacount']=df['q_name']\n",
    "#df = df.replace({'rdatacount':dtestcdic}).replace({'rdatacount':r\"^.*\\..*$\"},{'rdatacount':0},regex=True)\n",
    "\n",
    "#display(df)"
   ]
  },
  {
   "cell_type": "code",
   "execution_count": 16,
   "metadata": {},
   "outputs": [
    {
     "data": {
      "text/plain": [
       "q_name\n",
       "0-courier.push.apple.com                                                        1\n",
       "p4-d2nqz2jqnwmqu-a7yytqg5tivfmggd-if-v6exp3-v4.metric.gstatic.com               1\n",
       "p4-d6lcfb3vcgz3o-a6mtrshqzstjxzpi-350716-i1.anycast2-stb.metric.gstatic.com     1\n",
       "p4-d6lcfb3vcgz3o-a6mtrshqzstjxzpi-350716-i2.unicast2-stb.metric.gstatic.com     1\n",
       "p4-d6lcfb3vcgz3o-a6mtrshqzstjxzpi-if-v6exp3-v4.metric.gstatic.com               1\n",
       "                                                                               ..\n",
       "db.be.clamav.net                                                               15\n",
       "us.pool.ntp.org                                                                16\n",
       "de.pool.ntp.org                                                                18\n",
       "north-america.pool.ntp.org                                                     22\n",
       "asia.pool.ntp.org                                                              30\n",
       "Name: rdata, Length: 68309, dtype: int64"
      ]
     },
     "execution_count": 16,
     "metadata": {},
     "output_type": "execute_result"
    }
   ],
   "source": [
    "dtestc.sort_values()"
   ]
  },
  {
   "cell_type": "code",
   "execution_count": null,
   "metadata": {},
   "outputs": [],
   "source": [
    "dtests.to_csv('../rdata.csv')"
   ]
  },
  {
   "cell_type": "code",
   "execution_count": 17,
   "metadata": {},
   "outputs": [
    {
     "name": "stderr",
     "output_type": "stream",
     "text": [
      "UserWarning: `Series.to_csv` defaulting to pandas implementation.\n",
      "To request implementation, send an email to feature_requests@modin.org.\n",
      "UserWarning: Distributing <class 'pandas.core.series.Series'> object. This may take some time.\n"
     ]
    }
   ],
   "source": [
    "dtestc.to_csv('../rdatacounts_first_byte.csv')"
   ]
  },
  {
   "cell_type": "code",
   "execution_count": 63,
   "metadata": {},
   "outputs": [],
   "source": [
    "rdatacounts = pd.read_csv('../rdatacounts.csv').set_index('q_name')\n",
    "rdatacountsdic = rdatacounts['0'].to_dict()"
   ]
  },
  {
   "cell_type": "code",
   "execution_count": 30,
   "metadata": {},
   "outputs": [
    {
     "name": "stdout",
     "output_type": "stream",
     "text": [
      "Wall time: 156 ms\n"
     ]
    }
   ],
   "source": [
    "%%time\n",
    "df['rdatacount'] = df['q_name'].map(rdatacountsdic)"
   ]
  },
  {
   "cell_type": "code",
   "execution_count": 31,
   "metadata": {},
   "outputs": [],
   "source": [
    "df.fillna({'rdatacount':0}, inplace=True)"
   ]
  },
  {
   "cell_type": "code",
   "execution_count": 34,
   "metadata": {},
   "outputs": [],
   "source": [
    "df.fillna({'rdatacount_first_byte':0}, inplace=True)"
   ]
  },
  {
   "cell_type": "code",
   "execution_count": 32,
   "metadata": {},
   "outputs": [],
   "source": [
    "df.fillna({'ttl':1}, inplace=True)"
   ]
  },
  {
   "cell_type": "code",
   "execution_count": null,
   "metadata": {},
   "outputs": [],
   "source": [
    "df.dropna(inplace=True,subset=['q_name'])"
   ]
  },
  {
   "cell_type": "code",
   "execution_count": 8,
   "metadata": {},
   "outputs": [],
   "source": [
    "whitelist3  = [\n",
    "                'sophosxl.net',\n",
    "                'fundp.ac.be',\n",
    "                'unamur.be',\n",
    "                'facebook.com',\n",
    "                'google.com',\n",
    "                'apple.com',\n",
    "                'google.be',\n",
    "                'fbcdn.net',\n",
    "                'icloud.com',\n",
    "                'gstatic.com',\n",
    "                'youtube.com',\n",
    "                'akamai.net',\n",
    "                'discordapp.io',\n",
    "                'outlook.com',\n",
    "                'office.com',\n",
    "                'dropbox.com',\n",
    "                'live.com',\n",
    "                'microsoft.com',\n",
    "                'doubleclick.com',\n",
    "                'office365.com',\n",
    "                'twitter.com',\n",
    "                'googleapis.com',\n",
    "                'google-analytics.com',\n",
    "                'akamaiedge.net',\n",
    "                'googlesyndication.com',\n",
    "                'akamaiedge.net',\n",
    "                'doubleclick.net',\n",
    "                'ytimg.com',\n",
    "                'firefox.com',\n",
    "                'facebook.net',\n",
    "                'snapchat.com',\n",
    "                'googleadservices.com',\n",
    "                'akadns.net',\n",
    "                'fbsbx.com',\n",
    "                'digicert.com',\n",
    "                'tmall.com',\n",
    "                'qq.com',\n",
    "                'baidu.com',\n",
    "                'sohu.com',\n",
    "                'login.tmall.com',\n",
    "                'taobao.com',\n",
    "                'jd.com',\n",
    "                'yahoo.com',\n",
    "                'wikipedia.org',\n",
    "                'amazon.com',\n",
    "                'sina.com.cn',\n",
    "                'pages.tmall.com',\n",
    "                'weibo.com',\n",
    "                'zoom.us',\n",
    "                'reddit.com',\n",
    "                'netflix.com',\n",
    "                'vk.com',\n",
    "                'xinhuanet.com',\n",
    "                'okezone.com',\n",
    "                'csdn.net',\n",
    "                'instagram.com',\n",
    "                'alipay.com',\n",
    "                'blogspot.com',\n",
    "                'yahoo.co.jp',\n",
    "                'twitch.tv',\n",
    "                'myshopify.com',\n",
    "                'bongacams.com',\n",
    "                'google.com.hk',\n",
    "                'bing.com',\n",
    "                'microsoftonline.com',\n",
    "                'tribunnews.com',\n",
    "                'aliexpress.com',\n",
    "                'stackoverflow.com',\n",
    "                'naver.com',\n",
    "                'panda.tv',\n",
    "                'zhanqi.tv',\n",
    "                'livejasmin.com',\n",
    "                'babytree.com',\n",
    "                'tianya.cn',\n",
    "                'ebay.com',\n",
    "                'amazon.co.jp',\n",
    "                'google.co.in',\n",
    "                'chaturbate.com']\n",
    "\n",
    "for i in range(0,len(whitelist3)):\n",
    "    whitelist3[i] = '(^|\\.)'+whitelist3[i]+'$'"
   ]
  },
  {
   "cell_type": "code",
   "execution_count": null,
   "metadata": {},
   "outputs": [],
   "source": [
    "df['name_len'] = df['q_name'].str.len()"
   ]
  },
  {
   "cell_type": "code",
   "execution_count": null,
   "metadata": {},
   "outputs": [],
   "source": [
    "df['name_lvl']=df['q_name'].str.count('\\.')+1"
   ]
  },
  {
   "cell_type": "code",
   "execution_count": 9,
   "metadata": {},
   "outputs": [
    {
     "name": "stdout",
     "output_type": "stream",
     "text": [
      "Wall time: 0 ns\n"
     ]
    }
   ],
   "source": [
    "%time\n",
    "df['known']= df['q_name'].str.lower().str.contains('|'.join(whitelist3)).astype(int)"
   ]
  },
  {
   "cell_type": "code",
   "execution_count": null,
   "metadata": {},
   "outputs": [],
   "source": [
    "types = df['q_type'].unique()"
   ]
  },
  {
   "cell_type": "code",
   "execution_count": null,
   "metadata": {},
   "outputs": [],
   "source": [
    "dic = {}\n",
    "i=0\n",
    "for t in types:\n",
    "    dic[t] = i\n",
    "    i+=1"
   ]
  },
  {
   "cell_type": "code",
   "execution_count": null,
   "metadata": {},
   "outputs": [],
   "source": [
    "df['typecode'] = df['q_type'].map(dic)"
   ]
  },
  {
   "cell_type": "code",
   "execution_count": null,
   "metadata": {},
   "outputs": [],
   "source": [
    "%%time\n",
    "df['idcount'] = df.groupby('identifier')['q_type'].transform('count')"
   ]
  },
  {
   "cell_type": "code",
   "execution_count": null,
   "metadata": {},
   "outputs": [],
   "source": [
    "df['s_acount'] = df.groupby('s_addr')['q_type'].transform('count')"
   ]
  },
  {
   "cell_type": "code",
   "execution_count": null,
   "metadata": {},
   "outputs": [],
   "source": [
    "df['ttl_log']=np.log(df['ttl'])"
   ]
  },
  {
   "cell_type": "code",
   "execution_count": null,
   "metadata": {},
   "outputs": [],
   "source": [
    "df['ttl_log'] = df['ttl_log'].where(df['ttl_log']>=0,0)"
   ]
  },
  {
   "cell_type": "code",
   "execution_count": 4,
   "metadata": {},
   "outputs": [
    {
     "name": "stderr",
     "output_type": "stream",
     "text": [
      "UserWarning: `Series.to_dict` defaulting to pandas implementation.\n",
      "To request implementation, send an email to feature_requests@modin.org.\n"
     ]
    }
   ],
   "source": [
    "rdatacounts_fb = pd.read_csv('../rdatacounts_first_byte.csv').set_index('q_name')\n",
    "rdatacountsdic_fb = rdatacounts_fb['rdata'].to_dict()"
   ]
  },
  {
   "cell_type": "code",
   "execution_count": 5,
   "metadata": {},
   "outputs": [
    {
     "name": "stdout",
     "output_type": "stream",
     "text": [
      "Wall time: 140 ms\n"
     ]
    }
   ],
   "source": [
    "%%time\n",
    "df['rdatacount_first_byte'] = df['q_name'].map(rdatacountsdic_fb)"
   ]
  },
  {
   "cell_type": "code",
   "execution_count": 6,
   "metadata": {},
   "outputs": [],
   "source": [
    "df.fillna({'rdatacount_first_byte':0}, inplace=True)"
   ]
  },
  {
   "cell_type": "code",
   "execution_count": 42,
   "metadata": {},
   "outputs": [
    {
     "name": "stderr",
     "output_type": "stream",
     "text": [
      "UserWarning: `DataFrame.to_csv` defaulting to pandas implementation.\n",
      "UserWarning: Distributing <class 'pandas.core.frame.DataFrame'> object. This may take some time.\n"
     ]
    }
   ],
   "source": [
    "df.to_csv(\"../2017_a4.csv\",index=False)"
   ]
  },
  {
   "cell_type": "code",
   "execution_count": 28,
   "metadata": {},
   "outputs": [],
   "source": [
    "df.fillna({'rdata':\"\"},inplace=True)"
   ]
  },
  {
   "cell_type": "code",
   "execution_count": 2,
   "metadata": {},
   "outputs": [],
   "source": [
    "df = pd.read_csv(\"../2017_a4.csv\")"
   ]
  },
  {
   "cell_type": "code",
   "execution_count": 29,
   "metadata": {},
   "outputs": [],
   "source": [
    "dfs = df.head(10000)"
   ]
  },
  {
   "cell_type": "code",
   "execution_count": 34,
   "metadata": {},
   "outputs": [],
   "source": [
    "def lnl(x):\n",
    "    s=x.split(\".\")\n",
    "    if(len(s)>1):\n",
    "        return len(s[-2])\n",
    "    else:\n",
    "        return 0"
   ]
  },
  {
   "cell_type": "code",
   "execution_count": 35,
   "metadata": {},
   "outputs": [
    {
     "data": {
      "text/plain": [
       "6"
      ]
     },
     "execution_count": 35,
     "metadata": {},
     "output_type": "execute_result"
    }
   ],
   "source": [
    "lnl(\"www.google.com\")"
   ]
  },
  {
   "cell_type": "code",
   "execution_count": 38,
   "metadata": {},
   "outputs": [],
   "source": [
    "df['last_name_len'] = df['q_name'].dropna().apply(lnl)"
   ]
  },
  {
   "cell_type": "code",
   "execution_count": 41,
   "metadata": {},
   "outputs": [
    {
     "data": {
      "text/html": [
       "<div>\n",
       "<style scoped>\n",
       "    .dataframe tbody tr th:only-of-type {\n",
       "        vertical-align: middle;\n",
       "    }\n",
       "\n",
       "    .dataframe tbody tr th {\n",
       "        vertical-align: top;\n",
       "    }\n",
       "\n",
       "    .dataframe thead th {\n",
       "        text-align: right;\n",
       "    }\n",
       "</style>\n",
       "<table border=\"1\" class=\"dataframe\">\n",
       "  <thead>\n",
       "    <tr style=\"text-align: right;\">\n",
       "      <th></th>\n",
       "      <th>last_name_len</th>\n",
       "      <th>q_name</th>\n",
       "    </tr>\n",
       "  </thead>\n",
       "  <tbody>\n",
       "    <tr>\n",
       "      <th>2877136</th>\n",
       "      <td>0</td>\n",
       "      <td>local</td>\n",
       "    </tr>\n",
       "    <tr>\n",
       "      <th>2054129</th>\n",
       "      <td>0</td>\n",
       "      <td>local</td>\n",
       "    </tr>\n",
       "    <tr>\n",
       "      <th>3670673</th>\n",
       "      <td>0</td>\n",
       "      <td>local</td>\n",
       "    </tr>\n",
       "    <tr>\n",
       "      <th>3670707</th>\n",
       "      <td>0</td>\n",
       "      <td>local</td>\n",
       "    </tr>\n",
       "    <tr>\n",
       "      <th>3670708</th>\n",
       "      <td>0</td>\n",
       "      <td>local</td>\n",
       "    </tr>\n",
       "    <tr>\n",
       "      <th>...</th>\n",
       "      <td>...</td>\n",
       "      <td>...</td>\n",
       "    </tr>\n",
       "    <tr>\n",
       "      <th>4555661</th>\n",
       "      <td>47</td>\n",
       "      <td>www.chirurgie-esthetique-tunisie-sans-intermed...</td>\n",
       "    </tr>\n",
       "    <tr>\n",
       "      <th>4555651</th>\n",
       "      <td>47</td>\n",
       "      <td>www.chirurgie-esthetique-tunisie-sans-intermed...</td>\n",
       "    </tr>\n",
       "    <tr>\n",
       "      <th>4679567</th>\n",
       "      <td>49</td>\n",
       "      <td>www.revue-critique-de-fixxion-francaise-contem...</td>\n",
       "    </tr>\n",
       "    <tr>\n",
       "      <th>4679557</th>\n",
       "      <td>49</td>\n",
       "      <td>www.revue-critique-de-fixxion-francaise-contem...</td>\n",
       "    </tr>\n",
       "    <tr>\n",
       "      <th>4679568</th>\n",
       "      <td>49</td>\n",
       "      <td>www.revue-critique-de-fixxion-francaise-contem...</td>\n",
       "    </tr>\n",
       "  </tbody>\n",
       "</table>\n",
       "<p>4970258 rows x 2 columns</p>\n",
       "</div>"
      ],
      "text/plain": [
       "         last_name_len                                             q_name\n",
       "2877136              0                                              local\n",
       "2054129              0                                              local\n",
       "3670673              0                                              local\n",
       "3670707              0                                              local\n",
       "3670708              0                                              local\n",
       "...                ...                                                ...\n",
       "4555661             47  www.chirurgie-esthetique-tunisie-sans-intermed...\n",
       "4555651             47  www.chirurgie-esthetique-tunisie-sans-intermed...\n",
       "4679567             49  www.revue-critique-de-fixxion-francaise-contem...\n",
       "4679557             49  www.revue-critique-de-fixxion-francaise-contem...\n",
       "4679568             49  www.revue-critique-de-fixxion-francaise-contem...\n",
       "\n",
       "[4970258 rows x 2 columns]"
      ]
     },
     "execution_count": 41,
     "metadata": {},
     "output_type": "execute_result"
    }
   ],
   "source": [
    "df[['last_name_len','q_name']].sort_values('last_name_len')"
   ]
  },
  {
   "cell_type": "code",
   "execution_count": null,
   "metadata": {},
   "outputs": [],
   "source": [
    "dd = df[['ttl_log','s_acount','rdatacount_fb','idcount','typecode','known','name_len','name_lvl','aa_flag','tc_flag','rd_flag','ra_flag','rcode','answers_count','authority_count','additional_count']]"
   ]
  },
  {
   "cell_type": "code",
   "execution_count": 45,
   "metadata": {},
   "outputs": [],
   "source": [
    "dd = df[(df['typecode']==0) | (df['typecode']==1)]\n",
    "dd = df[['ttl_log','s_acount','rdatacount_first_byte','idcount','known','name_len','name_lvl','last_name_len']]"
   ]
  },
  {
   "cell_type": "code",
   "execution_count": null,
   "metadata": {},
   "outputs": [],
   "source": [
    "dd = dd[(dd['typecode']==0) | (dd['typecode']==1)]"
   ]
  },
  {
   "cell_type": "code",
   "execution_count": 46,
   "metadata": {},
   "outputs": [],
   "source": [
    "sample = dd.sample(n=1000)"
   ]
  },
  {
   "cell_type": "code",
   "execution_count": 52,
   "metadata": {},
   "outputs": [],
   "source": [
    "sample = dd"
   ]
  },
  {
   "cell_type": "code",
   "execution_count": null,
   "metadata": {},
   "outputs": [],
   "source": [
    "std = StandardScaler().fit_transform(sample.values)"
   ]
  },
  {
   "cell_type": "code",
   "execution_count": null,
   "metadata": {},
   "outputs": [],
   "source": [
    "rob = RobustScaler().fit_transform(sample.values)"
   ]
  },
  {
   "cell_type": "code",
   "execution_count": 53,
   "metadata": {},
   "outputs": [],
   "source": [
    "minmax = MinMaxScaler().fit_transform(sample.values)"
   ]
  },
  {
   "cell_type": "code",
   "execution_count": 54,
   "metadata": {},
   "outputs": [],
   "source": [
    "#weights\n",
    "#'ttl_log','s_acount','rdatacount_first_byte','idcount','known','name_len','name_lvl','last_name_len'\n",
    "w = np.array([\n",
    "    3,\n",
    "    2,\n",
    "    6,\n",
    "    3,\n",
    "    6,\n",
    "    3,\n",
    "    3,\n",
    "    6,\n",
    "])"
   ]
  },
  {
   "cell_type": "code",
   "execution_count": null,
   "metadata": {},
   "outputs": [],
   "source": [
    "#weights\n",
    "#'ttl_log','s_acount','rdatacount','idcount','typecode','known','name_len','name_lvl','aa_flag','tc_flag','rd_flag','ra_flag','rcode','answers_count','authority_count','additional_count'\n",
    "w = np.array([\n",
    "    5,\n",
    "    5,\n",
    "    6,\n",
    "    3,\n",
    "    1,\n",
    "    6,\n",
    "    4,\n",
    "    3,\n",
    "    1,\n",
    "    1,\n",
    "    1,\n",
    "    1,\n",
    "    1,\n",
    "    3,\n",
    "    1,\n",
    "    1,\n",
    "])"
   ]
  },
  {
   "cell_type": "code",
   "execution_count": null,
   "metadata": {},
   "outputs": [],
   "source": [
    "wstd = std*w"
   ]
  },
  {
   "cell_type": "code",
   "execution_count": null,
   "metadata": {},
   "outputs": [],
   "source": [
    "wrob = rob*w"
   ]
  },
  {
   "cell_type": "code",
   "execution_count": 55,
   "metadata": {},
   "outputs": [],
   "source": [
    "wminmax = minmax*w"
   ]
  },
  {
   "cell_type": "code",
   "execution_count": null,
   "metadata": {},
   "outputs": [],
   "source": [
    "kmeanstd = KMeans(n_clusters=5,random_state=1).fit(wstd)"
   ]
  },
  {
   "cell_type": "code",
   "execution_count": null,
   "metadata": {},
   "outputs": [],
   "source": [
    "kmeanrob = KMeans(n_clusters=5,random_state=1).fit(wrob)"
   ]
  },
  {
   "cell_type": "code",
   "execution_count": 56,
   "metadata": {},
   "outputs": [],
   "source": [
    "kmeanminmax = KMeans(n_clusters=5,random_state=1).fit(wminmax)"
   ]
  },
  {
   "cell_type": "code",
   "execution_count": 57,
   "metadata": {},
   "outputs": [
    {
     "name": "stderr",
     "output_type": "stream",
     "text": [
      "UserWarning: `DataFrame.to_csv` defaulting to pandas implementation.\n",
      "UserWarning: Distributing <class 'pandas.core.frame.DataFrame'> object. This may take some time.\n"
     ]
    }
   ],
   "source": [
    "dd.to_csv('temp.csv',index=0)"
   ]
  },
  {
   "cell_type": "code",
   "execution_count": 58,
   "metadata": {},
   "outputs": [],
   "source": [
    "ddc = pdnm.read_csv('temp.csv')"
   ]
  },
  {
   "cell_type": "code",
   "execution_count": 59,
   "metadata": {},
   "outputs": [],
   "source": [
    "ddc['cluster'] = pdnm.Series(kmeanminmax.labels_, index=ddc.index)"
   ]
  },
  {
   "cell_type": "code",
   "execution_count": 60,
   "metadata": {},
   "outputs": [
    {
     "data": {
      "text/html": [
       "<div>\n",
       "<style scoped>\n",
       "    .dataframe tbody tr th:only-of-type {\n",
       "        vertical-align: middle;\n",
       "    }\n",
       "\n",
       "    .dataframe tbody tr th {\n",
       "        vertical-align: top;\n",
       "    }\n",
       "\n",
       "    .dataframe thead th {\n",
       "        text-align: right;\n",
       "    }\n",
       "</style>\n",
       "<table border=\"1\" class=\"dataframe\">\n",
       "  <thead>\n",
       "    <tr style=\"text-align: right;\">\n",
       "      <th></th>\n",
       "      <th>ttl_log</th>\n",
       "      <th>s_acount</th>\n",
       "      <th>rdatacount_first_byte</th>\n",
       "      <th>idcount</th>\n",
       "      <th>known</th>\n",
       "      <th>name_len</th>\n",
       "      <th>name_lvl</th>\n",
       "      <th>last_name_len</th>\n",
       "    </tr>\n",
       "    <tr>\n",
       "      <th>cluster</th>\n",
       "      <th></th>\n",
       "      <th></th>\n",
       "      <th></th>\n",
       "      <th></th>\n",
       "      <th></th>\n",
       "      <th></th>\n",
       "      <th></th>\n",
       "      <th></th>\n",
       "    </tr>\n",
       "  </thead>\n",
       "  <tbody>\n",
       "    <tr>\n",
       "      <th>0</th>\n",
       "      <td>11.331113</td>\n",
       "      <td>1.087859e+06</td>\n",
       "      <td>1.002139</td>\n",
       "      <td>76.820147</td>\n",
       "      <td>1.0</td>\n",
       "      <td>15.091913</td>\n",
       "      <td>4.004708</td>\n",
       "      <td>2.018128</td>\n",
       "    </tr>\n",
       "    <tr>\n",
       "      <th>1</th>\n",
       "      <td>4.116318</td>\n",
       "      <td>2.276346e+05</td>\n",
       "      <td>1.150648</td>\n",
       "      <td>90.084988</td>\n",
       "      <td>0.0</td>\n",
       "      <td>23.675219</td>\n",
       "      <td>4.021500</td>\n",
       "      <td>7.865122</td>\n",
       "    </tr>\n",
       "    <tr>\n",
       "      <th>2</th>\n",
       "      <td>2.774262</td>\n",
       "      <td>1.649955e+05</td>\n",
       "      <td>1.286100</td>\n",
       "      <td>77.456882</td>\n",
       "      <td>1.0</td>\n",
       "      <td>23.551704</td>\n",
       "      <td>4.535450</td>\n",
       "      <td>5.471062</td>\n",
       "    </tr>\n",
       "    <tr>\n",
       "      <th>3</th>\n",
       "      <td>3.282407</td>\n",
       "      <td>3.564084e+05</td>\n",
       "      <td>0.000000</td>\n",
       "      <td>105.167282</td>\n",
       "      <td>1.0</td>\n",
       "      <td>218.001042</td>\n",
       "      <td>10.411485</td>\n",
       "      <td>7.999856</td>\n",
       "    </tr>\n",
       "    <tr>\n",
       "      <th>4</th>\n",
       "      <td>11.525999</td>\n",
       "      <td>1.524456e+05</td>\n",
       "      <td>1.017459</td>\n",
       "      <td>76.858774</td>\n",
       "      <td>1.0</td>\n",
       "      <td>19.826696</td>\n",
       "      <td>4.234658</td>\n",
       "      <td>2.508840</td>\n",
       "    </tr>\n",
       "  </tbody>\n",
       "</table>\n",
       "</div>"
      ],
      "text/plain": [
       "           ttl_log      s_acount  rdatacount_first_byte     idcount  known  \\\n",
       "cluster                                                                      \n",
       "0        11.331113  1.087859e+06               1.002139   76.820147    1.0   \n",
       "1         4.116318  2.276346e+05               1.150648   90.084988    0.0   \n",
       "2         2.774262  1.649955e+05               1.286100   77.456882    1.0   \n",
       "3         3.282407  3.564084e+05               0.000000  105.167282    1.0   \n",
       "4        11.525999  1.524456e+05               1.017459   76.858774    1.0   \n",
       "\n",
       "           name_len   name_lvl  last_name_len  \n",
       "cluster                                        \n",
       "0         15.091913   4.004708       2.018128  \n",
       "1         23.675219   4.021500       7.865122  \n",
       "2         23.551704   4.535450       5.471062  \n",
       "3        218.001042  10.411485       7.999856  \n",
       "4         19.826696   4.234658       2.508840  "
      ]
     },
     "execution_count": 60,
     "metadata": {},
     "output_type": "execute_result"
    }
   ],
   "source": [
    "ddc.groupby('cluster').mean()"
   ]
  },
  {
   "cell_type": "code",
   "execution_count": 61,
   "metadata": {},
   "outputs": [
    {
     "data": {
      "text/html": [
       "<div>\n",
       "<style scoped>\n",
       "    .dataframe tbody tr th:only-of-type {\n",
       "        vertical-align: middle;\n",
       "    }\n",
       "\n",
       "    .dataframe tbody tr th {\n",
       "        vertical-align: top;\n",
       "    }\n",
       "\n",
       "    .dataframe thead th {\n",
       "        text-align: right;\n",
       "    }\n",
       "</style>\n",
       "<table border=\"1\" class=\"dataframe\">\n",
       "  <thead>\n",
       "    <tr style=\"text-align: right;\">\n",
       "      <th></th>\n",
       "      <th>ttl_log</th>\n",
       "      <th>s_acount</th>\n",
       "      <th>rdatacount_first_byte</th>\n",
       "      <th>idcount</th>\n",
       "      <th>known</th>\n",
       "      <th>name_len</th>\n",
       "      <th>name_lvl</th>\n",
       "      <th>last_name_len</th>\n",
       "      <th>cluster</th>\n",
       "    </tr>\n",
       "  </thead>\n",
       "  <tbody>\n",
       "    <tr>\n",
       "      <th>13</th>\n",
       "      <td>2.197225</td>\n",
       "      <td>4696</td>\n",
       "      <td>2.0</td>\n",
       "      <td>81</td>\n",
       "      <td>0</td>\n",
       "      <td>14</td>\n",
       "      <td>3</td>\n",
       "      <td>7</td>\n",
       "      <td>1</td>\n",
       "    </tr>\n",
       "    <tr>\n",
       "      <th>29</th>\n",
       "      <td>6.396930</td>\n",
       "      <td>707279</td>\n",
       "      <td>1.0</td>\n",
       "      <td>62</td>\n",
       "      <td>0</td>\n",
       "      <td>17</td>\n",
       "      <td>3</td>\n",
       "      <td>5</td>\n",
       "      <td>1</td>\n",
       "    </tr>\n",
       "    <tr>\n",
       "      <th>31</th>\n",
       "      <td>7.855157</td>\n",
       "      <td>854</td>\n",
       "      <td>1.0</td>\n",
       "      <td>64</td>\n",
       "      <td>0</td>\n",
       "      <td>20</td>\n",
       "      <td>5</td>\n",
       "      <td>6</td>\n",
       "      <td>1</td>\n",
       "    </tr>\n",
       "    <tr>\n",
       "      <th>39</th>\n",
       "      <td>3.258097</td>\n",
       "      <td>7033</td>\n",
       "      <td>3.0</td>\n",
       "      <td>67</td>\n",
       "      <td>0</td>\n",
       "      <td>15</td>\n",
       "      <td>3</td>\n",
       "      <td>4</td>\n",
       "      <td>1</td>\n",
       "    </tr>\n",
       "    <tr>\n",
       "      <th>42</th>\n",
       "      <td>3.258097</td>\n",
       "      <td>7033</td>\n",
       "      <td>3.0</td>\n",
       "      <td>76</td>\n",
       "      <td>0</td>\n",
       "      <td>49</td>\n",
       "      <td>5</td>\n",
       "      <td>9</td>\n",
       "      <td>1</td>\n",
       "    </tr>\n",
       "    <tr>\n",
       "      <th>...</th>\n",
       "      <td>...</td>\n",
       "      <td>...</td>\n",
       "      <td>...</td>\n",
       "      <td>...</td>\n",
       "      <td>...</td>\n",
       "      <td>...</td>\n",
       "      <td>...</td>\n",
       "      <td>...</td>\n",
       "      <td>...</td>\n",
       "    </tr>\n",
       "    <tr>\n",
       "      <th>4970237</th>\n",
       "      <td>2.995732</td>\n",
       "      <td>3614</td>\n",
       "      <td>1.0</td>\n",
       "      <td>83</td>\n",
       "      <td>0</td>\n",
       "      <td>21</td>\n",
       "      <td>3</td>\n",
       "      <td>13</td>\n",
       "      <td>1</td>\n",
       "    </tr>\n",
       "    <tr>\n",
       "      <th>4970240</th>\n",
       "      <td>11.366743</td>\n",
       "      <td>38062</td>\n",
       "      <td>0.0</td>\n",
       "      <td>75</td>\n",
       "      <td>0</td>\n",
       "      <td>25</td>\n",
       "      <td>6</td>\n",
       "      <td>7</td>\n",
       "      <td>1</td>\n",
       "    </tr>\n",
       "    <tr>\n",
       "      <th>4970246</th>\n",
       "      <td>6.261492</td>\n",
       "      <td>3614</td>\n",
       "      <td>1.0</td>\n",
       "      <td>85</td>\n",
       "      <td>0</td>\n",
       "      <td>21</td>\n",
       "      <td>3</td>\n",
       "      <td>13</td>\n",
       "      <td>1</td>\n",
       "    </tr>\n",
       "    <tr>\n",
       "      <th>4970254</th>\n",
       "      <td>4.969813</td>\n",
       "      <td>1587</td>\n",
       "      <td>1.0</td>\n",
       "      <td>82</td>\n",
       "      <td>0</td>\n",
       "      <td>37</td>\n",
       "      <td>3</td>\n",
       "      <td>11</td>\n",
       "      <td>1</td>\n",
       "    </tr>\n",
       "    <tr>\n",
       "      <th>4970255</th>\n",
       "      <td>3.784190</td>\n",
       "      <td>1587</td>\n",
       "      <td>3.0</td>\n",
       "      <td>87</td>\n",
       "      <td>0</td>\n",
       "      <td>13</td>\n",
       "      <td>3</td>\n",
       "      <td>5</td>\n",
       "      <td>1</td>\n",
       "    </tr>\n",
       "  </tbody>\n",
       "</table>\n",
       "<p>1551076 rows × 9 columns</p>\n",
       "</div>"
      ],
      "text/plain": [
       "           ttl_log  s_acount  rdatacount_first_byte  idcount  known  name_len  \\\n",
       "13        2.197225      4696                    2.0       81      0        14   \n",
       "29        6.396930    707279                    1.0       62      0        17   \n",
       "31        7.855157       854                    1.0       64      0        20   \n",
       "39        3.258097      7033                    3.0       67      0        15   \n",
       "42        3.258097      7033                    3.0       76      0        49   \n",
       "...            ...       ...                    ...      ...    ...       ...   \n",
       "4970237   2.995732      3614                    1.0       83      0        21   \n",
       "4970240  11.366743     38062                    0.0       75      0        25   \n",
       "4970246   6.261492      3614                    1.0       85      0        21   \n",
       "4970254   4.969813      1587                    1.0       82      0        37   \n",
       "4970255   3.784190      1587                    3.0       87      0        13   \n",
       "\n",
       "         name_lvl  last_name_len  cluster  \n",
       "13              3              7        1  \n",
       "29              3              5        1  \n",
       "31              5              6        1  \n",
       "39              3              4        1  \n",
       "42              5              9        1  \n",
       "...           ...            ...      ...  \n",
       "4970237         3             13        1  \n",
       "4970240         6              7        1  \n",
       "4970246         3             13        1  \n",
       "4970254         3             11        1  \n",
       "4970255         3              5        1  \n",
       "\n",
       "[1551076 rows x 9 columns]"
      ]
     },
     "execution_count": 61,
     "metadata": {},
     "output_type": "execute_result"
    }
   ],
   "source": [
    "ddc[ddc['cluster']==1]"
   ]
  },
  {
   "cell_type": "code",
   "execution_count": null,
   "metadata": {},
   "outputs": [],
   "source": [
    "\n",
    "plt.figure(figsize=(20,10))\n",
    "plt.plot(dd['q_type'].values, dd['name_len'].values, '.',markersize=3)"
   ]
  },
  {
   "cell_type": "code",
   "execution_count": null,
   "metadata": {},
   "outputs": [],
   "source": [
    "%%time\n",
    "#ts = tsne.tsne(std[:1000],perplexity=60)\n",
    "ts = sTSNE(perplexity=30).fit_transform(std)\n",
    "plt.figure(figsize=(20,10))\n",
    "plt.scatter(ts[:,0],ts[:,1], c=kmeanstd.labels_,cmap='viridis')\n",
    "\n",
    "plt.savefig('../tsne30-std-rdatacount_w.png')"
   ]
  },
  {
   "cell_type": "code",
   "execution_count": null,
   "metadata": {},
   "outputs": [],
   "source": [
    "start = time.time()\n",
    "#ts = tsne.tsne(rob[:1000],perplexity=60)\n",
    "ts = sTSNE(perplexity=30).fit_transform(rob[:1000])\n",
    "end = time.time()\n",
    "print(end-start)\n",
    "plt.figure(figsize=(20,10))\n",
    "plt.scatter(ts[:,0],ts[:,1], c=kmeanrob.labels_,cmap='viridis')\n",
    "plt.savefig('../tsne30-rob-rdatacount_w.png')"
   ]
  },
  {
   "cell_type": "code",
   "execution_count": 51,
   "metadata": {},
   "outputs": [
    {
     "name": "stdout",
     "output_type": "stream",
     "text": [
      "7.898308038711548\n"
     ]
    },
    {
     "data": {
      "image/png": "[encoded data removed]",
      "text/plain": [
       "<Figure size 1440x720 with 1 Axes>"
      ]
     },
     "metadata": {
      "needs_background": "light"
     },
     "output_type": "display_data"
    }
   ],
   "source": [
    "start = time.time()\n",
    "#ts = tsne.tsne(minmax[:1000],perplexity=60)\n",
    "ts = sTSNE(perplexity=30).fit_transform(minmax[:1000])\n",
    "end = time.time()\n",
    "print(end-start)\n",
    "plt.figure(figsize=(20,10))\n",
    "plt.scatter(ts[:,0],ts[:,1], c=kmeanminmax.labels_,cmap='viridis')\n",
    "plt.savefig('../tsne30-minmax-rdatacount_fb_lastname_w.png')"
   ]
  },
  {
   "cell_type": "code",
   "execution_count": null,
   "metadata": {},
   "outputs": [],
   "source": []
  },
  {
   "cell_type": "code",
   "execution_count": null,
   "metadata": {},
   "outputs": [],
   "source": []
  }
 ],
 "metadata": {
  "kernelspec": {
   "display_name": "Python 3",
   "language": "python",
   "name": "python3"
  },
  "language_info": {
   "codemirror_mode": {
    "name": "ipython",
    "version": 3
   },
   "file_extension": ".py",
   "mimetype": "text/x-python",
   "name": "python",
   "nbconvert_exporter": "python",
   "pygments_lexer": "ipython3",
   "version": "3.8.3"
  }
 },
 "nbformat": 4,
 "nbformat_minor": 4
}
